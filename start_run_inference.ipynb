{
 "cells": [
  {
   "cell_type": "code",
   "execution_count": 1,
   "metadata": {},
   "outputs": [
    {
     "name": "stdout",
     "output_type": "stream",
     "text": [
      "Jupyter environment detected. Enabling Open3D WebVisualizer.\n",
      "[Open3D INFO] WebRTC GUI backend enabled.\n",
      "[Open3D INFO] WebRTCWindowSystem: HTTP handshake server disabled.\n"
     ]
    }
   ],
   "source": [
    "import open3d as o3d\n",
    "import os\n",
    "import matplotlib.pyplot as plt\n",
    "import numpy as np\n",
    "import plotly.graph_objects as go\n",
    "import plotly.express as px\n",
    "import re\n",
    "import os\n",
    "import random\n",
    "import csv\n",
    "\n",
    "from mpl_toolkits.mplot3d import Axes3D\n"
   ]
  },
  {
   "cell_type": "markdown",
   "metadata": {},
   "source": [
    "# Parse Arguments / Define Constants"
   ]
  },
  {
   "cell_type": "code",
   "execution_count": null,
   "metadata": {},
   "outputs": [],
   "source": [
    "RAW_PCD_FOLDER = 'label_cloud_project/datastore/pointclouds/raw_pcds'\n",
    "CROPPED_PCD_FOLDER = 'label_cloud_project/datastore/pointclouds/cropped_pcds'  \n",
    "LABEL_CLOUD_LABEL_FOLDER = 'label_cloud_project/datastore/labels/label_cloud_labels'\n",
    "YOLO_LABEL_FOLDER = 'label_cloud_project/datastore/labels/yolo_labels'  \n",
    "BEV_IMAGE_FOLDER = 'label_cloud_project/datastore/images/birds_eye_view_images'"
   ]
  },
  {
   "cell_type": "markdown",
   "metadata": {},
   "source": [
    "# Run Inference Continuously"
   ]
  },
  {
   "cell_type": "code",
   "execution_count": null,
   "metadata": {},
   "outputs": [],
   "source": [
    "import os\n",
    "import time\n",
    "import cv2\n",
    "import numpy as np\n",
    "import model_training.config as config\n",
    "import model_training.utils as utils\n",
    "import inference.single_image_inference as inference\n",
    "import preprocessing.preprocess_data as preprocessing\n",
    "from datetime import datetime\n",
    "from model_training.model import YOLOv3\n",
    "\n",
    "current_datetime = datetime.now().strftime(\"%Y-%m-%d_%H-%M-%S\")\n",
    "run_id = f\"{config.INFERENCE_RUN_TITLE}_{current_datetime}\"\n",
    "\n",
    "# Create a folder for the run_id inside 'inference/inference_results/'\n",
    "results_folder = os.path.join(config.INFERENCE_RESULTS_FOLDER, run_id)\n",
    "processed_pcd_folder = config.INFERENCE_PROCESSED_PCD_FOLDER\n",
    "\n",
    "os.makedirs(results_folder, exist_ok=True)\n",
    "\n",
    "model = YOLOv3(num_classes=config.NUM_CLASSES).to(config.DEVICE)\n",
    "utils.load_checkpoint(\n",
    "            config.INFERENCE_CHECKPOINT_FILE, model, None, None\n",
    "        )\n",
    "# Inference loop\n",
    "while True:\n",
    "    # Monitor the folder for new point cloud files\n",
    "    for file_name in os.listdir(config.INFERENCE_PCD_FOLDER):\n",
    "        if file_name.endswith(\".pcd\"):\n",
    "            # Transform point cloud to BEV image\n",
    "            bev_image = preprocessing.transform_to_bev(file_name)\n",
    "\n",
    "            # Run BEV model inference\n",
    "            bev_output = model.predict(bev_image)\n",
    "\n",
    "            # Extract x, y coordinates from YOLO v3 output\n",
    "            confidence_score, x, y, w, h = inference.inference_single_image(model, bev_output)\n",
    "\n",
    "            # Print results to console\n",
    "            print(f\"File: {file_name}, confidence: {confidence_score}, X: {x}, Y: {y}, W: {w}, H: {h}\")\n",
    "\n",
    "            # Write results to text file inside the run_id folder\n",
    "            results_file_path = os.path.join(results_folder, \"results.txt\")\n",
    "            with open(results_file_path, \"a\") as f:\n",
    "                f.write(f\"File: {file_name}, confidence: {confidence_score}, X: {x}, Y: {y}, W: {w}, H: {h}\\n\")\n",
    "\n",
    "            # Optional: Move processed file to another folder to avoid re-processing\n",
    "            os.rename(os.path.join(config.INFERENCE_PCD_FOLDER, file_name), os.path.join(processed_pcd_folder, file_name))\n",
    "\n",
    "    # Sleep for a while before checking for new files again\n",
    "    time.sleep(1)"
   ]
  }
 ],
 "metadata": {
  "kernelspec": {
   "display_name": "Python 3",
   "language": "python",
   "name": "python3"
  },
  "language_info": {
   "codemirror_mode": {
    "name": "ipython",
    "version": 3
   },
   "file_extension": ".py",
   "mimetype": "text/x-python",
   "name": "python",
   "nbconvert_exporter": "python",
   "pygments_lexer": "ipython3",
   "version": "3.8.0"
  }
 },
 "nbformat": 4,
 "nbformat_minor": 2
}
