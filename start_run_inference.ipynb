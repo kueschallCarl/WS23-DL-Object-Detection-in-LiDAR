{
 "cells": [
  {
   "cell_type": "code",
   "execution_count": 1,
   "metadata": {},
   "outputs": [
    {
     "name": "stdout",
     "output_type": "stream",
     "text": [
      "Jupyter environment detected. Enabling Open3D WebVisualizer.\n",
      "[Open3D INFO] WebRTC GUI backend enabled.\n",
      "[Open3D INFO] WebRTCWindowSystem: HTTP handshake server disabled.\n"
     ]
    }
   ],
   "source": [
    "import json\n",
    "import os\n",
    "import numpy as np\n",
    "import time\n",
    "import threading\n",
    "import torch\n",
    "import model_training.config as config\n",
    "import model_training.utils as utils\n",
    "import inference.single_image_inference as inference\n",
    "import preprocessing.preprocess_data as preprocessing\n",
    "from datetime import datetime\n",
    "from mpl_toolkits.mplot3d import Axes3D\n",
    "from model_training.model import YOLOv3\n",
    "from inference.plot_results import plot_bounding_boxes, plot_bounding_box_single_image\n"
   ]
  },
  {
   "cell_type": "markdown",
   "metadata": {},
   "source": [
    "# Run Inference Continuously"
   ]
  },
  {
   "cell_type": "code",
   "execution_count": 2,
   "metadata": {},
   "outputs": [
    {
     "name": "stdout",
     "output_type": "stream",
     "text": [
      "=> Loading checkpoint: inference/model/inference_model_checkpoint.pth.tar\n",
      "000004.pcd\n",
      "Image saved at inference/temp/bev_images\\000004.png\n",
      "Using device: cuda\n"
     ]
    },
    {
     "name": "stderr",
     "output_type": "stream",
     "text": [
      "100%|██████████| 1/1 [00:11<00:00, 11.09s/it]"
     ]
    },
    {
     "name": "stdout",
     "output_type": "stream",
     "text": [
      "Starting NMS\n",
      "Num boxes above confidence threshold: 11\n",
      "Highest Box confidence scores: [0.8299436569213867, 0.824759304523468, 0.8069045543670654, 0.8013520836830139, 0.8003425598144531]\n"
     ]
    },
    {
     "name": "stderr",
     "output_type": "stream",
     "text": [
      "100%|██████████| 1/1 [00:11<00:00, 11.51s/it]\n"
     ]
    },
    {
     "name": "stdout",
     "output_type": "stream",
     "text": [
      "File: 000004.pcd, bboxes: [[0, 0.0, 0.8299436569213867, 0.6207255721092224, 0.3393271267414093, 0.026913324370980263, 0.02635212615132332], [0, 0.0, 0.8069045543670654, 0.428894966840744, 0.37448444962501526, 0.027293629944324493, 0.02590077556669712], [0, 0.0, 0.8013520836830139, 0.6129134297370911, 0.4376993477344513, 0.026676852256059647, 0.02681625820696354], [0, 0.0, 0.8003425598144531, 0.42597758769989014, 0.29200875759124756, 0.028095433488488197, 0.02794303372502327], [0, 0.0, 0.7333654761314392, 0.4269472658634186, 0.43126749992370605, 0.028276219964027405, 0.027415188029408455]]\n",
      "000005.pcd\n",
      "Image saved at inference/temp/bev_images\\000005.png\n",
      "Using device: cuda\n"
     ]
    },
    {
     "name": "stderr",
     "output_type": "stream",
     "text": [
      "100%|██████████| 1/1 [00:10<00:00, 10.76s/it]"
     ]
    },
    {
     "name": "stdout",
     "output_type": "stream",
     "text": [
      "Starting NMS\n",
      "Num boxes above confidence threshold: 13\n",
      "Highest Box confidence scores: [0.8456155061721802, 0.8389489650726318, 0.8136775493621826, 0.791598916053772, 0.7881207466125488]\n"
     ]
    },
    {
     "name": "stderr",
     "output_type": "stream",
     "text": [
      "100%|██████████| 1/1 [00:11<00:00, 11.17s/it]\n"
     ]
    },
    {
     "name": "stdout",
     "output_type": "stream",
     "text": [
      "File: 000005.pcd, bboxes: [[0, 0.0, 0.8456155061721802, 0.6202619671821594, 0.3397262394428253, 0.027471937239170074, 0.026937486603856087], [0, 0.0, 0.8136775493621826, 0.42864885926246643, 0.37475278973579407, 0.027212966233491898, 0.025968434289097786], [0, 0.0, 0.791598916053772, 0.6124739050865173, 0.4379151463508606, 0.027056463062763214, 0.026983143761754036], [0, 0.0, 0.7881207466125488, 0.4258177578449249, 0.2921757698059082, 0.028848830610513687, 0.02836523950099945], [0, 0.0, 0.7778000831604004, 0.42670518159866333, 0.43271127343177795, 0.027141619473695755, 0.02731464058160782], [0, 0.0, 0.7280308604240417, 0.4677417278289795, 0.22481293976306915, 0.03291312977671623, 0.03196822479367256], [0, 0.0, 0.7113497257232666, 0.5802783966064453, 0.2078760266304016, 0.028882743790745735, 0.028339805081486702]]\n",
      "000006.pcd\n",
      "Image saved at inference/temp/bev_images\\000006.png\n",
      "Using device: cuda\n"
     ]
    },
    {
     "name": "stderr",
     "output_type": "stream",
     "text": [
      "  0%|          | 0/1 [00:00<?, ?it/s]"
     ]
    },
    {
     "ename": "",
     "evalue": "",
     "output_type": "error",
     "traceback": [
      "\u001b[1;31mThe Kernel crashed while executing code in the current cell or a previous cell. \n",
      "\u001b[1;31mPlease review the code in the cell(s) to identify a possible cause of the failure. \n",
      "\u001b[1;31mClick <a href='https://aka.ms/vscodeJupyterKernelCrash'>here</a> for more info. \n",
      "\u001b[1;31mView Jupyter <a href='command:jupyter.viewOutput'>log</a> for further details."
     ]
    }
   ],
   "source": [
    "current_datetime = datetime.now().strftime(\"%Y-%m-%d_%H-%M-%S\")\n",
    "run_id = f\"{config.INFERENCE_RUN_TITLE}_{current_datetime}\"\n",
    "\n",
    "# Create a folder for the run_id inside 'inference/inference_results/'\n",
    "results_folder = os.path.join(config.INFERENCE_RESULTS_FOLDER, run_id)\n",
    "processed_pcd_folder = config.INFERENCE_PROCESSED_PCD_FOLDER\n",
    "results_file_path = os.path.join(results_folder, f\"results_{run_id}.json\")\n",
    "os.makedirs(results_folder, exist_ok=True)\n",
    "os.makedirs(processed_pcd_folder, exist_ok=True)\n",
    "\n",
    "\n",
    "model = YOLOv3(num_classes=config.NUM_CLASSES).to(config.DEVICE)\n",
    "utils.load_checkpoint(\n",
    "            config.INFERENCE_CHECKPOINT_FILE, model, None, None\n",
    "        )\n",
    "# Inference loop\n",
    "while True:\n",
    "    # Monitor the folder for new point cloud files\n",
    "    for file_name in os.listdir(config.INFERENCE_PCD_FOLDER):\n",
    "        print(file_name)\n",
    "        if file_name.endswith(\".pcd\"):\n",
    "            # Transform point cloud to BEV image\n",
    "            bev_image = preprocessing.transform_to_bev(file_name)\n",
    "\n",
    "            # Extract x, y coordinates from YOLO v3 output\n",
    "            bboxes_pred = inference.inference_single_image(model, bev_image)\n",
    "\n",
    "            # Print results to console\n",
    "            print(f\"File: {file_name}, bboxes: {bboxes_pred}\")\n",
    "\n",
    "            result_dict = {}\n",
    "            for idx in range(len(bboxes_pred)):\n",
    "                bbox_info = {\n",
    "                    \"confidence\": bboxes_pred[idx][2],\n",
    "                    \"x\": bboxes_pred[idx][3],\n",
    "                    \"y\": bboxes_pred[idx][4],\n",
    "                    \"w\": bboxes_pred[idx][5],\n",
    "                    \"h\": bboxes_pred[idx][6]\n",
    "                }\n",
    "                result_dict[idx] = bbox_info\n",
    "\n",
    "            # Create a dictionary to store all results\n",
    "            results = {}\n",
    "\n",
    "            # Check if the results file already exists\n",
    "            if os.path.exists(results_file_path):\n",
    "                # Read existing results from the file\n",
    "                with open(results_file_path, 'r') as json_file:\n",
    "                    results = json.load(json_file)\n",
    "\n",
    "            # Add new results to the dictionary\n",
    "            results[file_name] = result_dict\n",
    "\n",
    "            plot_bounding_box_single_image(result_dict, config.INFERENCE_TEMP_BEV_FOLDER, file_name)\n",
    "\n",
    "            # Write all results back to the file\n",
    "            with open(results_file_path, \"w\") as json_file:\n",
    "                json.dump(results, json_file, indent=2)\n",
    "\n",
    "            # Optional: Move processed file to another folder to avoid re-processing\n",
    "            os.rename(os.path.join(config.INFERENCE_PCD_FOLDER, file_name),\n",
    "                      os.path.join(processed_pcd_folder, file_name))\n",
    "\n",
    "    # Sleep for a while before checking for new files again\n",
    "    time.sleep(0.01)"
   ]
  },
  {
   "cell_type": "markdown",
   "metadata": {},
   "source": [
    "## Plot all results on top of BEV images"
   ]
  },
  {
   "cell_type": "code",
   "execution_count": null,
   "metadata": {},
   "outputs": [],
   "source": [
    "plot_bounding_boxes(results_file_path, config.INFERENCE_TEMP_BEV_FOLDER)"
   ]
  }
 ],
 "metadata": {
  "kernelspec": {
   "display_name": "Python 3",
   "language": "python",
   "name": "python3"
  },
  "language_info": {
   "codemirror_mode": {
    "name": "ipython",
    "version": 3
   },
   "file_extension": ".py",
   "mimetype": "text/x-python",
   "name": "python",
   "nbconvert_exporter": "python",
   "pygments_lexer": "ipython3",
   "version": "3.8.0"
  }
 },
 "nbformat": 4,
 "nbformat_minor": 2
}
