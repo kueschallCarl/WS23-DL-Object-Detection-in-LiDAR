{
 "cells": [
  {
   "cell_type": "code",
   "execution_count": null,
   "metadata": {},
   "outputs": [],
   "source": [
    "import json\n",
    "import os\n",
    "import numpy as np\n",
    "import time\n",
    "import torch\n",
    "import model_training.config as config\n",
    "import model_training.utils as utils\n",
    "import inference.single_image_inference as inference\n",
    "import preprocessing.preprocess_data as preprocessing\n",
    "from datetime import datetime\n",
    "from mpl_toolkits.mplot3d import Axes3D\n",
    "from model_training.model import YOLOv3\n"
   ]
  },
  {
   "cell_type": "markdown",
   "metadata": {},
   "source": [
    "# Run Inference Continuously"
   ]
  },
  {
   "cell_type": "code",
   "execution_count": 7,
   "metadata": {},
   "outputs": [
    {
     "name": "stdout",
     "output_type": "stream",
     "text": [
      "=> Loading checkpoint: inference/model/inference_model_checkpoint.pth.tar\n",
      "000001.pcd\n",
      "Image saved at inference/temp/bev_images\\000001.png\n"
     ]
    },
    {
     "name": "stderr",
     "output_type": "stream",
     "text": [
      "100%|██████████| 1/1 [00:09<00:00,  9.99s/it]"
     ]
    },
    {
     "name": "stdout",
     "output_type": "stream",
     "text": [
      "Starting NMS\n",
      "Num boxes above confidence threshold: 3\n",
      "Highest Box confidence scores: [0.8222513198852539, 0.8206561803817749, 0.813751757144928]\n"
     ]
    },
    {
     "name": "stderr",
     "output_type": "stream",
     "text": [
      "100%|██████████| 1/1 [00:10<00:00, 10.38s/it]\n"
     ]
    },
    {
     "name": "stdout",
     "output_type": "stream",
     "text": [
      "File: 000001.pcd, bboxes: [[0, 0.0, 0.8222513198852539, 0.6191576719284058, 0.3400348424911499, 0.027623251080513, 0.027230486273765564], [0, 0.0, 0.8206561803817749, 0.42888298630714417, 0.37422239780426025, 0.027232525870203972, 0.025846345350146294]]\n",
      "000002.pcd\n",
      "Image saved at inference/temp/bev_images\\000002.png\n"
     ]
    },
    {
     "name": "stderr",
     "output_type": "stream",
     "text": [
      "100%|██████████| 1/1 [00:10<00:00, 10.02s/it]"
     ]
    },
    {
     "name": "stdout",
     "output_type": "stream",
     "text": [
      "Starting NMS\n",
      "Num boxes above confidence threshold: 4\n",
      "Highest Box confidence scores: [0.8236697912216187, 0.8201755881309509, 0.8184205293655396, 0.8020944595336914]\n"
     ]
    },
    {
     "name": "stderr",
     "output_type": "stream",
     "text": [
      "100%|██████████| 1/1 [00:10<00:00, 10.43s/it]\n"
     ]
    },
    {
     "name": "stdout",
     "output_type": "stream",
     "text": [
      "File: 000002.pcd, bboxes: [[0, 0.0, 0.8236697912216187, 0.6192940473556519, 0.34050318598747253, 0.027712609618902206, 0.027243616059422493], [0, 0.0, 0.8201755881309509, 0.6178531646728516, 0.4386260211467743, 0.02830377034842968, 0.027455871924757957], [0, 0.0, 0.8184205293655396, 0.4290653169155121, 0.37520208954811096, 0.027870740741491318, 0.026026496663689613]]\n",
      "000003.pcd\n",
      "Image saved at inference/temp/bev_images\\000003.png\n"
     ]
    },
    {
     "name": "stderr",
     "output_type": "stream",
     "text": [
      "100%|██████████| 1/1 [00:09<00:00,  9.97s/it]"
     ]
    },
    {
     "name": "stdout",
     "output_type": "stream",
     "text": [
      "Starting NMS\n",
      "Num boxes above confidence threshold: 2\n",
      "Highest Box confidence scores: [0.8072582483291626, 0.8008938431739807]\n"
     ]
    },
    {
     "name": "stderr",
     "output_type": "stream",
     "text": [
      "100%|██████████| 1/1 [00:10<00:00, 10.37s/it]\n"
     ]
    },
    {
     "name": "stdout",
     "output_type": "stream",
     "text": [
      "File: 000003.pcd, bboxes: [[0, 0.0, 0.8072582483291626, 0.6199800968170166, 0.33954012393951416, 0.028397424146533012, 0.027723390609025955]]\n",
      "000004.pcd\n",
      "Image saved at inference/temp/bev_images\\000004.png\n"
     ]
    },
    {
     "name": "stderr",
     "output_type": "stream",
     "text": [
      "100%|██████████| 1/1 [00:09<00:00,  9.85s/it]"
     ]
    },
    {
     "name": "stdout",
     "output_type": "stream",
     "text": [
      "Starting NMS\n",
      "Num boxes above confidence threshold: 5\n",
      "Highest Box confidence scores: [0.8299436569213867, 0.824759304523468, 0.8069045543670654, 0.8013520836830139, 0.8003425598144531]\n"
     ]
    },
    {
     "name": "stderr",
     "output_type": "stream",
     "text": [
      "100%|██████████| 1/1 [00:10<00:00, 10.25s/it]\n"
     ]
    },
    {
     "name": "stdout",
     "output_type": "stream",
     "text": [
      "File: 000004.pcd, bboxes: [[0, 0.0, 0.8299436569213867, 0.6207255721092224, 0.3393271267414093, 0.026913324370980263, 0.02635212615132332], [0, 0.0, 0.8069045543670654, 0.428894966840744, 0.37448444962501526, 0.027293629944324493, 0.02590077556669712], [0, 0.0, 0.8013520836830139, 0.6129134297370911, 0.4376993477344513, 0.026676852256059647, 0.02681625820696354], [0, 0.0, 0.8003425598144531, 0.42597758769989014, 0.29200875759124756, 0.028095433488488197, 0.02794303372502327]]\n",
      "000005.pcd\n",
      "Image saved at inference/temp/bev_images\\000005.png\n"
     ]
    },
    {
     "name": "stderr",
     "output_type": "stream",
     "text": [
      "100%|██████████| 1/1 [00:09<00:00,  9.88s/it]"
     ]
    },
    {
     "name": "stdout",
     "output_type": "stream",
     "text": [
      "Starting NMS\n",
      "Num boxes above confidence threshold: 3\n",
      "Highest Box confidence scores: [0.8456155061721802, 0.8389489650726318, 0.8136775493621826]\n"
     ]
    },
    {
     "name": "stderr",
     "output_type": "stream",
     "text": [
      "100%|██████████| 1/1 [00:10<00:00, 10.27s/it]\n"
     ]
    },
    {
     "name": "stdout",
     "output_type": "stream",
     "text": [
      "File: 000005.pcd, bboxes: [[0, 0.0, 0.8456155061721802, 0.6202619671821594, 0.3397262394428253, 0.027471937239170074, 0.026937486603856087], [0, 0.0, 0.8136775493621826, 0.42864885926246643, 0.37475278973579407, 0.027212966233491898, 0.025968434289097786]]\n",
      "000006.pcd\n",
      "Image saved at inference/temp/bev_images\\000006.png\n"
     ]
    },
    {
     "name": "stderr",
     "output_type": "stream",
     "text": [
      "100%|██████████| 1/1 [00:09<00:00,  9.93s/it]"
     ]
    },
    {
     "name": "stdout",
     "output_type": "stream",
     "text": [
      "Starting NMS\n",
      "Num boxes above confidence threshold: 3\n",
      "Highest Box confidence scores: [0.8396573662757874, 0.8367919921875, 0.8134294748306274]\n"
     ]
    },
    {
     "name": "stderr",
     "output_type": "stream",
     "text": [
      "100%|██████████| 1/1 [00:10<00:00, 10.31s/it]\n"
     ]
    },
    {
     "name": "stdout",
     "output_type": "stream",
     "text": [
      "File: 000006.pcd, bboxes: [[0, 0.0, 0.8396573662757874, 0.6195219159126282, 0.3403688073158264, 0.027016181498765945, 0.026359831914305687], [0, 0.0, 0.8134294748306274, 0.4292455315589905, 0.3754246234893799, 0.027297494933009148, 0.025785012170672417]]\n",
      "000007.pcd\n",
      "Image saved at inference/temp/bev_images\\000007.png\n"
     ]
    },
    {
     "name": "stderr",
     "output_type": "stream",
     "text": [
      "100%|██████████| 1/1 [00:09<00:00,  9.77s/it]"
     ]
    },
    {
     "name": "stdout",
     "output_type": "stream",
     "text": [
      "Starting NMS\n",
      "Num boxes above confidence threshold: 4\n",
      "Highest Box confidence scores: [0.8436352610588074, 0.8354406952857971, 0.8204196691513062, 0.8034102320671082]\n"
     ]
    },
    {
     "name": "stderr",
     "output_type": "stream",
     "text": [
      "100%|██████████| 1/1 [00:10<00:00, 10.14s/it]\n"
     ]
    },
    {
     "name": "stdout",
     "output_type": "stream",
     "text": [
      "File: 000007.pcd, bboxes: [[0, 0.0, 0.8436352610588074, 0.6207159757614136, 0.3393542468547821, 0.027377398684620857, 0.02693895250558853], [0, 0.0, 0.8204196691513062, 0.429772287607193, 0.37451136112213135, 0.027139106765389442, 0.02542228065431118], [0, 0.0, 0.8034102320671082, 0.6128125190734863, 0.4379190504550934, 0.027296200394630432, 0.027287902310490608]]\n",
      "000008.pcd\n",
      "Image saved at inference/temp/bev_images\\000008.png\n"
     ]
    },
    {
     "name": "stderr",
     "output_type": "stream",
     "text": [
      "100%|██████████| 1/1 [00:09<00:00,  9.81s/it]"
     ]
    },
    {
     "name": "stdout",
     "output_type": "stream",
     "text": [
      "Starting NMS\n",
      "Num boxes above confidence threshold: 3\n",
      "Highest Box confidence scores: [0.8409494757652283, 0.826997697353363, 0.8216835856437683]\n"
     ]
    },
    {
     "name": "stderr",
     "output_type": "stream",
     "text": [
      "100%|██████████| 1/1 [00:10<00:00, 10.18s/it]\n"
     ]
    },
    {
     "name": "stdout",
     "output_type": "stream",
     "text": [
      "File: 000008.pcd, bboxes: [[0, 0.0, 0.8409494757652283, 0.6197845935821533, 0.3394181728363037, 0.027331583201885223, 0.027012063190340996], [0, 0.0, 0.8216835856437683, 0.42927086353302, 0.37378719449043274, 0.027179040014743805, 0.025084732100367546]]\n",
      "000009.pcd\n",
      "Image saved at inference/temp/bev_images\\000009.png\n"
     ]
    },
    {
     "name": "stderr",
     "output_type": "stream",
     "text": [
      "100%|██████████| 1/1 [00:09<00:00,  9.83s/it]"
     ]
    },
    {
     "name": "stdout",
     "output_type": "stream",
     "text": [
      "Starting NMS\n",
      "Num boxes above confidence threshold: 4\n",
      "Highest Box confidence scores: [0.8459003567695618, 0.8323740363121033, 0.8145074248313904, 0.8129799365997314]\n"
     ]
    },
    {
     "name": "stderr",
     "output_type": "stream",
     "text": [
      "100%|██████████| 1/1 [00:10<00:00, 10.21s/it]\n"
     ]
    },
    {
     "name": "stdout",
     "output_type": "stream",
     "text": [
      "File: 000009.pcd, bboxes: [[0, 0.0, 0.8459003567695618, 0.6201425790786743, 0.33939290046691895, 0.027529781684279442, 0.026901308447122574], [0, 0.0, 0.8145074248313904, 0.42883220314979553, 0.3743758201599121, 0.027234921231865883, 0.025755109265446663], [0, 0.0, 0.8129799365997314, 0.6130728125572205, 0.43884846568107605, 0.02693147212266922, 0.02634388767182827]]\n",
      "000010.pcd\n",
      "Image saved at inference/temp/bev_images\\000010.png\n"
     ]
    },
    {
     "name": "stderr",
     "output_type": "stream",
     "text": [
      "100%|██████████| 1/1 [00:09<00:00,  9.98s/it]"
     ]
    },
    {
     "name": "stdout",
     "output_type": "stream",
     "text": [
      "Starting NMS\n",
      "Num boxes above confidence threshold: 2\n",
      "Highest Box confidence scores: [0.843324601650238, 0.8375163078308105]\n"
     ]
    },
    {
     "name": "stderr",
     "output_type": "stream",
     "text": [
      "100%|██████████| 1/1 [00:10<00:00, 10.37s/it]\n"
     ]
    },
    {
     "name": "stdout",
     "output_type": "stream",
     "text": [
      "File: 000010.pcd, bboxes: [[0, 0.0, 0.843324601650238, 0.6198647022247314, 0.33993402123451233, 0.027367567643523216, 0.02721094712615013]]\n"
     ]
    },
    {
     "ename": "KeyboardInterrupt",
     "evalue": "",
     "output_type": "error",
     "traceback": [
      "\u001b[1;31m---------------------------------------------------------------------------\u001b[0m",
      "\u001b[1;31mKeyboardInterrupt\u001b[0m                         Traceback (most recent call last)",
      "Cell \u001b[1;32mIn[7], line 51\u001b[0m\n\u001b[0;32m     47\u001b[0m         os\u001b[38;5;241m.\u001b[39mrename(os\u001b[38;5;241m.\u001b[39mpath\u001b[38;5;241m.\u001b[39mjoin(config\u001b[38;5;241m.\u001b[39mINFERENCE_PCD_FOLDER, file_name),\n\u001b[0;32m     48\u001b[0m                   os\u001b[38;5;241m.\u001b[39mpath\u001b[38;5;241m.\u001b[39mjoin(processed_pcd_folder, file_name))\n\u001b[0;32m     50\u001b[0m \u001b[38;5;66;03m# Sleep for a while before checking for new files again\u001b[39;00m\n\u001b[1;32m---> 51\u001b[0m \u001b[43mtime\u001b[49m\u001b[38;5;241;43m.\u001b[39;49m\u001b[43msleep\u001b[49m\u001b[43m(\u001b[49m\u001b[38;5;241;43m0.01\u001b[39;49m\u001b[43m)\u001b[49m\n",
      "\u001b[1;31mKeyboardInterrupt\u001b[0m: "
     ]
    }
   ],
   "source": [
    "\n",
    "\n",
    "current_datetime = datetime.now().strftime(\"%Y-%m-%d_%H-%M-%S\")\n",
    "run_id = f\"{config.INFERENCE_RUN_TITLE}_{current_datetime}\"\n",
    "\n",
    "# Create a folder for the run_id inside 'inference/inference_results/'\n",
    "results_folder = os.path.join(config.INFERENCE_RESULTS_FOLDER, run_id)\n",
    "processed_pcd_folder = config.INFERENCE_PROCESSED_PCD_FOLDER\n",
    "results_file_path = os.path.join(results_folder, f\"results_{run_id}.json\")\n",
    "os.makedirs(results_folder, exist_ok=True)\n",
    "os.makedirs(processed_pcd_folder, exist_ok=True)\n",
    "\n",
    "\n",
    "model = YOLOv3(num_classes=config.NUM_CLASSES).to(config.DEVICE)\n",
    "utils.load_checkpoint(\n",
    "            config.INFERENCE_CHECKPOINT_FILE, model, None, None\n",
    "        )\n",
    "# Inference loop\n",
    "while True:\n",
    "    # Monitor the folder for new point cloud files\n",
    "    for file_name in os.listdir(config.INFERENCE_PCD_FOLDER):\n",
    "        print(file_name)\n",
    "        if file_name.endswith(\".pcd\"):\n",
    "            # Transform point cloud to BEV image\n",
    "            bev_image = preprocessing.transform_to_bev(file_name)\n",
    "\n",
    "            # Extract x, y coordinates from YOLO v3 output\n",
    "            bboxes_pred = inference.inference_single_image(model, bev_image)\n",
    "\n",
    "            # Print results to console\n",
    "            print(f\"File: {file_name}, bboxes: {bboxes_pred}\")\n",
    "\n",
    "            result_dict = {}\n",
    "            for idx in range(len(bboxes_pred)):\n",
    "                bbox_info = {\n",
    "                    \"confidence\": bboxes_pred[idx][2],\n",
    "                    \"x\": bboxes_pred[idx][3],\n",
    "                    \"y\": bboxes_pred[idx][4],\n",
    "                    \"w\": bboxes_pred[idx][5],\n",
    "                    \"h\": bboxes_pred[idx][6]\n",
    "                }\n",
    "                result_dict[idx] = bbox_info\n",
    "\n",
    "            # Create a dictionary to store all results\n",
    "            results = {}\n",
    "\n",
    "            # Check if the results file already exists\n",
    "            if os.path.exists(results_file_path):\n",
    "                # Read existing results from the file\n",
    "                with open(results_file_path, 'r') as json_file:\n",
    "                    results = json.load(json_file)\n",
    "\n",
    "            # Add new results to the dictionary\n",
    "            results[file_name] = result_dict\n",
    "\n",
    "            # Write all results back to the file\n",
    "            with open(results_file_path, \"w\") as json_file:\n",
    "                json.dump(results, json_file, indent=2)\n",
    "\n",
    "            # Optional: Move processed file to another folder to avoid re-processing\n",
    "            os.rename(os.path.join(config.INFERENCE_PCD_FOLDER, file_name),\n",
    "                      os.path.join(processed_pcd_folder, file_name))\n",
    "\n",
    "    # Sleep for a while before checking for new files again\n",
    "    time.sleep(0.01)"
   ]
  },
  {
   "cell_type": "markdown",
   "metadata": {},
   "source": [
    "## Plot results ontop of BEV images"
   ]
  },
  {
   "cell_type": "code",
   "execution_count": null,
   "metadata": {},
   "outputs": [],
   "source": []
  }
 ],
 "metadata": {
  "kernelspec": {
   "display_name": "Python 3",
   "language": "python",
   "name": "python3"
  },
  "language_info": {
   "codemirror_mode": {
    "name": "ipython",
    "version": 3
   },
   "file_extension": ".py",
   "mimetype": "text/x-python",
   "name": "python",
   "nbconvert_exporter": "python",
   "pygments_lexer": "ipython3",
   "version": "3.8.0"
  }
 },
 "nbformat": 4,
 "nbformat_minor": 2
}
